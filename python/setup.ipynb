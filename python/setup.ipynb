{
 "cells": [
  {
   "cell_type": "code",
   "id": "initial_id",
   "metadata": {
    "collapsed": true,
    "ExecuteTime": {
     "end_time": "2025-07-27T13:11:42.293067Z",
     "start_time": "2025-07-27T13:11:41.959396Z"
    }
   },
   "source": [
    "from setuptools import setup, find_packages\n",
    "\n",
    "setup(\n",
    "    name=\"log-analyzer\",\n",
    "    version=\"0.1.0\",\n",
    "    description=\"로그 분석 도구\",\n",
    "    author=\"\",\n",
    "    author_email=\"\",\n",
    "    packages=find_packages(),\n",
    "    install_requires=[\n",
    "        # 필요한 의존성 패키지들은 나중에 추가할 수 있습니다\n",
    "    ],\n",
    "    python_requires=\">=3.6\",\n",
    ")"
   ],
   "outputs": [
    {
     "ename": "SystemExit",
     "evalue": "usage: ipykernel_launcher.py [global_opts] cmd1 [cmd1_opts] [cmd2 [cmd2_opts] ...]\n   or: ipykernel_launcher.py --help [cmd1 cmd2 ...]\n   or: ipykernel_launcher.py --help-commands\n   or: ipykernel_launcher.py cmd --help\n\nerror: option -f not recognized",
     "output_type": "error",
     "traceback": [
      "An exception has occurred, use %tb to see the full traceback.\n",
      "\u001B[31mSystemExit\u001B[39m\u001B[31m:\u001B[39m usage: ipykernel_launcher.py [global_opts] cmd1 [cmd1_opts] [cmd2 [cmd2_opts] ...]\n   or: ipykernel_launcher.py --help [cmd1 cmd2 ...]\n   or: ipykernel_launcher.py --help-commands\n   or: ipykernel_launcher.py cmd --help\n\nerror: option -f not recognized\n"
     ]
    },
    {
     "name": "stderr",
     "output_type": "stream",
     "text": [
      "/Users/daewonlee/dev/git/repos/dlogView/.venv/lib/python3.12/site-packages/IPython/core/interactiveshell.py:3707: UserWarning: To exit: use 'exit', 'quit', or Ctrl-D.\n",
      "  warn(\"To exit: use 'exit', 'quit', or Ctrl-D.\", stacklevel=1)\n"
     ]
    }
   ],
   "execution_count": 1
  },
  {
   "metadata": {},
   "cell_type": "markdown",
   "source": [
    "### 설명\n",
    "이 `setup.py` 파일은 Python 패키지를 빌드하고 배포하기 위한 설정 파일입니다.\n",
    "주요 설정:\n",
    "- 패키지 이름: log-analyzer\n",
    "- 버전: 0.1.0\n",
    "- Python 3.6 이상 필요\n",
    "- 의존성 패키지는 추후 추가 가능"
   ],
   "id": "624b9aa29d0b57ba"
  }
 ],
 "metadata": {
  "kernelspec": {
   "display_name": "Python 3",
   "language": "python",
   "name": "python3"
  },
  "language_info": {
   "codemirror_mode": {
    "name": "ipython",
    "version": 2
   },
   "file_extension": ".py",
   "mimetype": "text/x-python",
   "name": "python",
   "nbconvert_exporter": "python",
   "pygments_lexer": "ipython2",
   "version": "2.7.6"
  }
 },
 "nbformat": 4,
 "nbformat_minor": 5
}
